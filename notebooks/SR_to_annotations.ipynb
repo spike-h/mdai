{
  "nbformat": 4,
  "nbformat_minor": 0,
  "metadata": {
    "colab": {
      "provenance": [],
      "authorship_tag": "ABX9TyPgSgkd4NW/XGngIEzHrgTi",
      "include_colab_link": true
    },
    "kernelspec": {
      "name": "python3",
      "display_name": "Python 3"
    },
    "language_info": {
      "name": "python"
    }
  },
  "cells": [
    {
      "cell_type": "markdown",
      "metadata": {
        "id": "view-in-github",
        "colab_type": "text"
      },
      "source": [
        "<a href=\"https://colab.research.google.com/github/spike-h/mdai/blob/main/SR_to_annotations.ipynb\" target=\"_parent\"><img src=\"https://colab.research.google.com/assets/colab-badge.svg\" alt=\"Open In Colab\"/></a>"
      ]
    },
    {
      "cell_type": "markdown",
      "source": [
        "# SR to Annotations/JSON Documentation\n",
        "\n",
        "This function is used to convert an SR file into an MD.ai Annotation note or JSON format. It is meant to convert the entirety of the SR's **content sequence** into text while keeping note of the referenced studies.\n",
        "\n",
        "______\n",
        "\n",
        "The JSON format will have two fields: \"Referenced DICOM\" and \"SR Content\". Referenced DICOM is a list of dictionaries containing a \"Study UID\" field which points to the referenced studies (indicated by the content sequence's ReferencedSOPSequence tag). SR Content will be a list of lines of text, each containing a field from the SR document.\n",
        "\n",
        "The annotation note format will import an annotation into the given project and dataset based on the studies that the SR references. The annotation will have a note containing the SR's content. You must initiate an mdai_client for this to work. Additionally, you must go into the UI and create a label, then input the label_id into the function.\n",
        "\n",
        "______\n",
        "\n",
        "  Inputs:\n",
        "\n",
        "    `file_path` - File path to the SR (required)\n",
        "    `json_out` - Boolean flag to determine if should output to JSON (optional)\n",
        "    `project_id` & `dataset_id` & `label_id` - Project information necessary to output SR to annotation note. All must be present if any are present. (optional)\n",
        "    `mdai_client` - mdai client object instantiated by calling `mdai.Client`. Must be present to export SR to annotation note.\n",
        "Outputs:\n",
        "\n",
        "\n",
        "  If `json_out` is `True` then there will be a json file in your cwd called \"SR_content\". If all the project and client information is filled out, then there will be an annotation with the SR content as an annotation note, for each study in the project that is referenced by the SR.\n"
      ],
      "metadata": {
        "id": "00GeBSAXuHWa"
      }
    },
    {
      "cell_type": "markdown",
      "source": [
        "## Example Usage:"
      ],
      "metadata": {
        "id": "WHW1nIOQzdK5"
      }
    },
    {
      "cell_type": "code",
      "source": [
        "import mdai\n",
        "\n",
        "# Get variables from project info tab and user settings\n",
        "DOMAIN = 'public.md.ai'\n",
        "YOUR_PERSONAL_TOKEN = '8b80c4ca0f'\n",
        "mdai_client = mdai.Client(domain=DOMAIN, access_token=YOUR_PERSONAL_TOKEN)\n",
        "\n",
        "dataset_id = 'D_0Z4qeN'\n",
        "project_id = 'L1NpnQBv'\n",
        "label_id = 'L_QnlPAg'\n",
        "\n",
        "file_path = 'path_to_SR.dcm'"
      ],
      "metadata": {
        "id": "-ZqFNjo7zjBJ"
      },
      "execution_count": null,
      "outputs": []
    },
    {
      "cell_type": "code",
      "source": [
        "SR_to_Annot(file_path,\n",
        "            dataset_id=dataset_id,\n",
        "            project_id=project_id,\n",
        "            label_id=label_id,\n",
        "            mdai_client=mdai_client)"
      ],
      "metadata": {
        "id": "gRS-791zzjBK"
      },
      "execution_count": null,
      "outputs": []
    },
    {
      "cell_type": "markdown",
      "source": [
        "## Source Code:"
      ],
      "metadata": {
        "id": "kJIj_82zzaSy"
      }
    },
    {
      "cell_type": "code",
      "source": [
        "import pydicom\n",
        "from pydicom import dcmread, Dataset\n",
        "import json\n",
        "\n",
        "def SR_to_Annot(file_path, json_out=False, project_id='', dataset_id='', label_id='', mdai_client=None):\n",
        "  ds = dcmread(file_path)\n",
        "\n",
        "  # Get the referenced Dicom Files\n",
        "  referenced_dicoms = []\n",
        "  for study_seq in ds.CurrentRequestedProcedureEvidenceSequence:\n",
        "    referenced_study = {}\n",
        "    study_UID = study_seq.StudyInstanceUID\n",
        "    referenced_study['Study UID'] = study_UID\n",
        "    referenced_dicoms.append(referenced_study)\n",
        "\n",
        "  content_seq_list = list(ds.ContentSequence)\n",
        "\n",
        "  content = []\n",
        "  run_through(content, content_seq_list)\n",
        "\n",
        "  final_content = []\n",
        "  # print('SR CONTENT:')\n",
        "  # print('-'*10)\n",
        "  for annot in content:\n",
        "    annot = list(filter(None, annot))\n",
        "    final_content.append(\" - \".join(annot))\n",
        "    # print(\" - \".join(annot))\n",
        "  # print('-'*10)\n",
        "\n",
        "  if json_out:\n",
        "    out_json = {}\n",
        "    out_json['Referenced DICOM'] = referenced_dicoms\n",
        "    out_json['SR Content'] = final_content\n",
        "\n",
        "    # Serializing json\n",
        "    json_object = json.dumps(out_json, indent=4)\n",
        "\n",
        "    # Writing to sample.json\n",
        "    with open(\"SR_content.json\", \"w\") as outfile:\n",
        "        outfile.write(json_object)\n",
        "\n",
        "  if project_id or dataset_id or label_id or mdai_client:\n",
        "    if not project_id:\n",
        "      print('Please add in the \"project_id\" argument')\n",
        "    if not dataset_id:\n",
        "      print('Please add in the \"dataset_id\" argument')\n",
        "    if not label_id:\n",
        "      print('Please add in the \"label_id\" argument')\n",
        "    if not mdai_client:\n",
        "      print('Please add in the \"mdai_client\" argument')\n",
        "\n",
        "    annotations = []\n",
        "    for dicom_dict in referenced_dicoms:\n",
        "      study_uid = dicom_dict['Study UID']\n",
        "      note = '\\n'.join(final_content)\n",
        "      annot_dict = {\n",
        "        'labelId': label_id,\n",
        "        'StudyInstanceUID': study_uid,\n",
        "        'note': note\n",
        "      }\n",
        "      annotations.append(annot_dict)\n",
        "\n",
        "    mdai_client.import_annotations(annotations, project_id, dataset_id)\n",
        "\n",
        "\n",
        "def run_through(content, content_seq_list):\n",
        "\n",
        "  for content_seq in content_seq_list:\n",
        "    parent_labels = []\n",
        "    child_labels = []\n",
        "    notes = []\n",
        "\n",
        "    if 'RelationshipType' in content_seq:\n",
        "      if content_seq.RelationshipType == 'HAS ACQ CONTEXT':\n",
        "        continue\n",
        "\n",
        "    if content_seq.ValueType == 'IMAGE':\n",
        "      if 'ReferencedSOPSequence' in content_seq:\n",
        "        for ref_seq in content_seq.ReferencedSOPSequence:\n",
        "          if 'ReferencedSOPClassUID' in ref_seq:\n",
        "            notes.append(f'\\n   Referenced SOP Class UID = {ref_seq.ReferencedSOPClassUID}')\n",
        "          if 'ReferencedSOPInstanceUID' in ref_seq:\n",
        "            notes.append(f'\\n   Referenced SOP Instance UID = {ref_seq.ReferencedSOPInstanceUID}')\n",
        "          if 'ReferencedSegmentNumber' in ref_seq:\n",
        "            notes.append(f'\\n   Referenced Segment Number = {ref_seq.ReferencedSegmentNumber}')\n",
        "      else:\n",
        "        continue\n",
        "\n",
        "    if 'ConceptNameCodeSequence' in content_seq:\n",
        "      if len(content_seq.ConceptNameCodeSequence) > 0:\n",
        "        parent_labels.append(content_seq.ConceptNameCodeSequence[0].CodeMeaning)\n",
        "    if 'ConceptCodeSequence' in content_seq:\n",
        "      if len(content_seq.ConceptCodeSequence) > 0:\n",
        "        child_labels.append(content_seq.ConceptCodeSequence[0].CodeMeaning)\n",
        "\n",
        "    if 'DateTime' in content_seq:\n",
        "      notes.append(content_seq.DateTime)\n",
        "    if 'Date' in content_seq:\n",
        "      notes.append(content_seq.Date)\n",
        "    if 'PersonName' in content_seq:\n",
        "      notes.append(str(content_seq.PersonName))\n",
        "    if 'UID' in content_seq:\n",
        "      notes.append(content_seq.UID)\n",
        "    if 'TextValue' in content_seq:\n",
        "      # notes.append(content_seq.TextValue)\n",
        "      child_labels.append(content_seq.TextValue)\n",
        "    if 'MeasuredValueSequence' in content_seq:\n",
        "      if len(content_seq.MeasuredValueSequence) > 0:\n",
        "        units = content_seq.MeasuredValueSequence[0].MeasurementUnitsCodeSequence[0].CodeValue\n",
        "        notes.append(str(content_seq.MeasuredValueSequence[0].NumericValue) + units)\n",
        "\n",
        "    if 'ContentSequence' in content_seq:\n",
        "      run_through(content, list(content_seq.ContentSequence))\n",
        "    else:\n",
        "      content.append([', '.join(parent_labels), ', '.join(child_labels), \", \".join(notes)])"
      ],
      "metadata": {
        "id": "oN5BaB1DpaBL"
      },
      "execution_count": null,
      "outputs": []
    }
  ]
}
